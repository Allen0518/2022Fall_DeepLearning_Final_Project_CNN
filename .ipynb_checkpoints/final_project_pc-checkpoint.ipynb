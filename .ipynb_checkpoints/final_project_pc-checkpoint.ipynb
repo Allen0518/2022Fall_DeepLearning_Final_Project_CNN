{
 "cells": [
  {
   "cell_type": "markdown",
   "id": "8a031503",
   "metadata": {},
   "source": [
    "import Lib"
   ]
  },
  {
   "cell_type": "code",
   "execution_count": 3,
   "id": "a10a1302",
   "metadata": {
    "scrolled": true
   },
   "outputs": [],
   "source": [
    "import os\n",
    "os.environ['KMP_DUPLICATE_LIB_OK'] = 'TRUE'\n",
    "\n",
    "import torch\n",
    "import torch.nn as nn\n",
    "import torch.optim as optim\n",
    "import torch.nn.functional as F\n",
    "\n",
    "import torchvision.datasets as dsets\n",
    "import torchvision.transforms as transforms\n",
    "import matplotlib.pyplot as plt\n",
    "import numpy as np\n",
    "import time\n",
    "\n",
    "from PIL import Image\n",
    "from IPython.display import Image, display\n",
    "from sklearn.preprocessing import LabelEncoder\n",
    "\n",
    "import plotly.graph_objects as go\n",
    "from sklearn.model_selection import train_test_split\n",
    "import torch.utils.data as Data\n",
    "from keras import models, layers\n",
    "\n",
    "from sklearn.metrics import accuracy_score\n",
    "from sklearn.metrics import classification_report\n",
    "import tensorflow as tf\n"
   ]
  },
  {
   "cell_type": "markdown",
   "id": "e97ae757",
   "metadata": {},
   "source": [
    "test mps"
   ]
  },
  {
   "cell_type": "code",
   "execution_count": 2,
   "id": "d1867845",
   "metadata": {},
   "outputs": [],
   "source": [
    "use_mps = False\n",
    "mps_num = 0\n",
    "\n",
    "if torch.backends.mps.is_available():\n",
    "    use_mps = True\n",
    "    mps_num = torch.device('mps')\n",
    "device = torch.device(\"mps\" if torch.backends.mps.is_available() else \"cpu\")"
   ]
  },
  {
   "cell_type": "markdown",
   "id": "8971409e",
   "metadata": {},
   "source": [
    "test code"
   ]
  },
  {
   "cell_type": "code",
   "execution_count": 3,
   "id": "22df3d27",
   "metadata": {},
   "outputs": [],
   "source": [
    "use_cuda = False\n",
    "cuda_num = 0\n",
    "if torch.cuda.is_available():\n",
    "    use_cuda = True\n",
    "    cuda_numm = torch.cuda.device_count()\n",
    "    cuda_=0\n",
    "device = torch.device('cuda'+str(cuda_) if use_cuda else 'cpu')"
   ]
  },
  {
   "cell_type": "markdown",
   "id": "6c64b7e8",
   "metadata": {},
   "source": [
    "# Load data"
   ]
  },
  {
   "cell_type": "code",
   "execution_count": 2,
   "id": "30e66fc7",
   "metadata": {},
   "outputs": [
    {
     "ename": "SyntaxError",
     "evalue": "(unicode error) 'unicodeescape' codec can't decode bytes in position 2-3: truncated \\UXXXXXXXX escape (2872080182.py, line 1)",
     "output_type": "error",
     "traceback": [
      "\u001b[1;36m  File \u001b[1;32m\"C:\\Users\\User\\AppData\\Local\\Temp\\ipykernel_2308\\2872080182.py\"\u001b[1;36m, line \u001b[1;32m1\u001b[0m\n\u001b[1;33m    labels = os.listdir('C:\\Users\\User\\Desktop\\2023_DeepLearning_FinalProject\\2022_Summer_DeepLearning_Final_Project_CNN\\data\\natural_images')\u001b[0m\n\u001b[1;37m                                                                                                                                             ^\u001b[0m\n\u001b[1;31mSyntaxError\u001b[0m\u001b[1;31m:\u001b[0m (unicode error) 'unicodeescape' codec can't decode bytes in position 2-3: truncated \\UXXXXXXXX escape\n"
     ]
    }
   ],
   "source": [
    "labels = os.listdir('C:\\Users\\User\\Desktop\\2023_DeepLearning_FinalProject\\2022_Summer_DeepLearning_Final_Project_CNN\\data\\natural_images')\n",
    "print(labels)\n"
   ]
  },
  {
   "cell_type": "code",
   "execution_count": 12,
   "id": "84f4663b",
   "metadata": {},
   "outputs": [],
   "source": [
    "x_data =[]\n",
    "y_data = []\n",
    "import cv2\n",
    "for label in labels:\n",
    "    path = r\"C:/Users/User/Desktop/data/natural_images/{0}/\".format(label)\n",
    "    folder_data = os.listdir(path)\n",
    "    for image_path in folder_data:\n",
    "        image = cv2.imread(path+image_path)\n",
    "        image_resized = cv2.resize(image, (28,28))\n",
    "        image_resized_2 = tf.reshape(image_resized, (3,28,28))\n",
    "        x_data.append(np.array(image_resized_2))\n",
    "        y_data.append(label)\n",
    "        pass\n",
    "    pass\n"
   ]
  },
  {
   "cell_type": "code",
   "execution_count": 13,
   "id": "c7321348",
   "metadata": {
    "scrolled": true
   },
   "outputs": [
    {
     "name": "stdout",
     "output_type": "stream",
     "text": [
      "the shape of X is:  (6899, 3, 28, 28) and that of Y is:  (6899,)\n"
     ]
    }
   ],
   "source": [
    "x_data = np.array(x_data)\n",
    "y_data = np.array(y_data)\n",
    "print('the shape of X is: ', x_data.shape, 'and that of Y is: ', y_data.shape)\n",
    "x_data = x_data.astype('float32')\n",
    "\n",
    "y_encoded = LabelEncoder().fit_transform(y_data)\n",
    "\n",
    "\n",
    "X = torch.tensor(x_data)\n",
    "y = torch.tensor(y_encoded)\n",
    "\n",
    "X_train, X_test, y_train, y_test = train_test_split(X, y, test_size = 0.1, random_state=1)\n",
    "train_dataset = Data.TensorDataset(X_train, y_train)\n",
    "test_dataset = Data.TensorDataset(X_test, y_test)"
   ]
  },
  {
   "cell_type": "code",
   "execution_count": 14,
   "id": "bf20bd39",
   "metadata": {},
   "outputs": [
    {
     "data": {
      "text/plain": [
       "(256, 256, 3)"
      ]
     },
     "execution_count": 14,
     "metadata": {},
     "output_type": "execute_result"
    }
   ],
   "source": [
    "image.shape"
   ]
  },
  {
   "cell_type": "code",
   "execution_count": 15,
   "id": "d8e4ac30",
   "metadata": {},
   "outputs": [
    {
     "data": {
      "text/plain": [
       "(28, 28, 3)"
      ]
     },
     "execution_count": 15,
     "metadata": {},
     "output_type": "execute_result"
    }
   ],
   "source": [
    "image_resized.shape"
   ]
  },
  {
   "cell_type": "code",
   "execution_count": 16,
   "id": "e9ca6d0e",
   "metadata": {},
   "outputs": [
    {
     "data": {
      "text/plain": [
       "torch.Size([6209, 3, 28, 28])"
      ]
     },
     "execution_count": 16,
     "metadata": {},
     "output_type": "execute_result"
    }
   ],
   "source": [
    "X_train.shape"
   ]
  },
  {
   "cell_type": "code",
   "execution_count": 17,
   "id": "44569059",
   "metadata": {
    "scrolled": true
   },
   "outputs": [
    {
     "data": {
      "text/plain": [
       "torch.Size([6209])"
      ]
     },
     "execution_count": 17,
     "metadata": {},
     "output_type": "execute_result"
    }
   ],
   "source": [
    "y_train.shape"
   ]
  },
  {
   "cell_type": "markdown",
   "id": "6f141132",
   "metadata": {},
   "source": [
    "Define hyperparameter"
   ]
  },
  {
   "cell_type": "code",
   "execution_count": 18,
   "id": "1822116f",
   "metadata": {},
   "outputs": [],
   "source": [
    "image_size  = 28  \n",
    "num_classes = 8  \n",
    "num_epochs  =  30 \n",
    "batch_size  =  100\n",
    "depth = [4, 8]"
   ]
  },
  {
   "cell_type": "code",
   "execution_count": 19,
   "id": "545c4e0d",
   "metadata": {},
   "outputs": [],
   "source": [
    "\n",
    "train_loader = torch.utils.data.DataLoader(dataset=train_dataset, batch_size=batch_size, shuffle=True )\n",
    "\n",
    "\n",
    "len1 = len(test_dataset)\n",
    "indices_val  = range(len1 // 2)\n",
    "indices_test = range(len1 // 2, len1)\n",
    "sampler_val  = torch.utils.data.sampler.SubsetRandomSampler(indices_val)\n",
    "sampler_test = torch.utils.data.sampler.SubsetRandomSampler(indices_test)\n",
    "\n",
    "validation_loader = torch.utils.data.DataLoader(dataset =test_dataset, batch_size = batch_size,\n",
    "                                                sampler = sampler_val)\n",
    "test_loader       = torch.utils.data.DataLoader(dataset=test_dataset, batch_size=batch_size, \n",
    "                                                sampler = sampler_test)\n"
   ]
  },
  {
   "cell_type": "markdown",
   "id": "974f4f7f",
   "metadata": {},
   "source": [
    "Define metric"
   ]
  },
  {
   "cell_type": "code",
   "execution_count": 20,
   "id": "9f851d8a",
   "metadata": {},
   "outputs": [],
   "source": [
    "def rightness(pred, y):\n",
    "    global i1\n",
    "    pred = torch.max(pred, 1)[1]\n",
    "    rights = pred.eq(y).sum()\n",
    "    return rights, len(y)\n"
   ]
  },
  {
   "cell_type": "markdown",
   "id": "79bd1fb9",
   "metadata": {},
   "source": [
    "# Build model"
   ]
  },
  {
   "cell_type": "code",
   "execution_count": 21,
   "id": "f9b19d2c",
   "metadata": {},
   "outputs": [],
   "source": [
    "class ConvNet(nn.Module):\n",
    "    def __init__(self):\n",
    "        super(ConvNet, self).__init__()\n",
    "        \n",
    "        \n",
    "        self.conv1 = nn.Conv2d(3, depth[0], 5, padding = 2) \n",
    "        \n",
    "        \n",
    "        self.pool = nn.MaxPool2d(2, 2) \n",
    "        \n",
    "        \n",
    "        self.conv2 = nn.Conv2d(depth[0], depth[1], 5, padding = 2) \n",
    "        \n",
    "        \n",
    "        self.fc1 = nn.Linear(image_size//4 * image_size//4 * depth[1] , 256) \n",
    "        \n",
    "        \n",
    "        self.fc2 = nn.Linear(256, num_classes) \n",
    "        \n",
    "   \n",
    "    def forward(self, x):\n",
    "       \n",
    "        x = F.relu(self.conv1(x)) \n",
    "        \n",
    "        x = self.pool(x) \n",
    "        \n",
    "        x = F.relu(self.conv2(x)) \n",
    "                       \n",
    "        x = self.pool(x) \n",
    "        \n",
    "        x = x.view(-1, image_size//4 * image_size//4 * depth[1])\n",
    "        \n",
    "        x = F.relu(self.fc1(x)) \n",
    "        \n",
    "        x = F.dropout(x, training=self.training) \n",
    "        x = self.fc2(x) \n",
    "        \n",
    "        x = F.log_softmax(x, dim = 1)\n",
    "        return x\n",
    "    \n",
    "    \n",
    "    def retrieve_features(self, x):\n",
    "       \n",
    "        tempx1 = F.relu(self.conv1(x)) \n",
    "        \n",
    "        tempx2 = F.relu(self.conv2(self.pool(tempx1))) "
   ]
  },
  {
   "cell_type": "markdown",
   "id": "4f35469c",
   "metadata": {},
   "source": [
    "# Model training"
   ]
  },
  {
   "cell_type": "code",
   "execution_count": 22,
   "id": "2dd3e154",
   "metadata": {
    "scrolled": true
   },
   "outputs": [
    {
     "name": "stdout",
     "output_type": "stream",
     "text": [
      "Epoch: 0 [1000/6209 (16%)]\tLoss: 2.547304\t訓練正確率: 11.00%\t校驗正確率: 11.30%\n",
      "Epoch: 0 [2000/6209 (32%)]\tLoss: 2.313846\t訓練正確率: 11.10%\t校驗正確率: 11.88%\n",
      "Epoch: 0 [3000/6209 (48%)]\tLoss: 2.236067\t訓練正確率: 11.33%\t校驗正確率: 12.75%\n",
      "Epoch: 0 [4000/6209 (64%)]\tLoss: 2.196958\t訓練正確率: 11.82%\t校驗正確率: 14.20%\n",
      "Epoch: 0 [5000/6209 (81%)]\tLoss: 2.171927\t訓練正確率: 12.20%\t校驗正確率: 16.52%\n",
      "Epoch: 0 [6000/6209 (97%)]\tLoss: 2.152425\t訓練正確率: 13.05%\t校驗正確率: 17.39%\n",
      "Epoch: 0 [6209/6209 (100%)]\tLoss: 2.147427\t訓練正確率: 13.22%\t校驗正確率: 15.36%\n",
      "Epoch: 1 [1000/6209 (16%)]\tLoss: 1.985444\t訓練正確率: 17.70%\t校驗正確率: 13.33%\n",
      "Epoch: 1 [2000/6209 (32%)]\tLoss: 1.961723\t訓練正確率: 17.00%\t校驗正確率: 13.62%\n",
      "Epoch: 1 [3000/6209 (48%)]\tLoss: 1.946027\t訓練正確率: 17.57%\t校驗正確率: 23.19%\n",
      "Epoch: 1 [4000/6209 (64%)]\tLoss: 1.930148\t訓練正確率: 18.33%\t校驗正確率: 23.48%\n",
      "Epoch: 1 [5000/6209 (81%)]\tLoss: 1.917355\t訓練正確率: 19.26%\t校驗正確率: 21.74%\n",
      "Epoch: 1 [6000/6209 (97%)]\tLoss: 1.903697\t訓練正確率: 20.55%\t校驗正確率: 24.06%\n",
      "Epoch: 1 [6209/6209 (100%)]\tLoss: 1.905785\t訓練正確率: 20.66%\t校驗正確率: 22.90%\n",
      "Epoch: 2 [1000/6209 (16%)]\tLoss: 1.877215\t訓練正確率: 22.40%\t校驗正確率: 23.19%\n",
      "Epoch: 2 [2000/6209 (32%)]\tLoss: 1.849857\t訓練正確率: 23.05%\t校驗正確率: 24.06%\n",
      "Epoch: 2 [3000/6209 (48%)]\tLoss: 1.843792\t訓練正確率: 23.70%\t校驗正確率: 23.19%\n",
      "Epoch: 2 [4000/6209 (64%)]\tLoss: 1.842737\t訓練正確率: 24.12%\t校驗正確率: 23.77%\n",
      "Epoch: 2 [5000/6209 (81%)]\tLoss: 1.843475\t訓練正確率: 24.22%\t校驗正確率: 20.87%\n",
      "Epoch: 2 [6000/6209 (97%)]\tLoss: 1.832431\t訓練正確率: 24.77%\t校驗正確率: 22.32%\n",
      "Epoch: 2 [6209/6209 (100%)]\tLoss: 1.838663\t訓練正確率: 24.67%\t校驗正確率: 24.93%\n",
      "Epoch: 3 [1000/6209 (16%)]\tLoss: 1.803637\t訓練正確率: 27.80%\t校驗正確率: 22.61%\n",
      "Epoch: 3 [2000/6209 (32%)]\tLoss: 1.804888\t訓練正確率: 27.15%\t校驗正確率: 22.90%\n",
      "Epoch: 3 [3000/6209 (48%)]\tLoss: 1.797509\t訓練正確率: 27.57%\t校驗正確率: 27.54%\n",
      "Epoch: 3 [4000/6209 (64%)]\tLoss: 1.793467\t訓練正確率: 28.02%\t校驗正確率: 28.70%\n",
      "Epoch: 3 [5000/6209 (81%)]\tLoss: 1.781267\t訓練正確率: 28.94%\t校驗正確率: 30.72%\n",
      "Epoch: 3 [6000/6209 (97%)]\tLoss: 1.780752\t訓練正確率: 29.22%\t校驗正確率: 29.57%\n",
      "Epoch: 3 [6209/6209 (100%)]\tLoss: 1.774537\t訓練正確率: 29.43%\t校驗正確率: 28.41%\n",
      "Epoch: 4 [1000/6209 (16%)]\tLoss: 1.804965\t訓練正確率: 28.70%\t校驗正確率: 31.30%\n",
      "Epoch: 4 [2000/6209 (32%)]\tLoss: 1.763067\t訓練正確率: 30.35%\t校驗正確率: 29.57%\n",
      "Epoch: 4 [3000/6209 (48%)]\tLoss: 1.749469\t訓練正確率: 31.23%\t校驗正確率: 32.46%\n",
      "Epoch: 4 [4000/6209 (64%)]\tLoss: 1.730239\t訓練正確率: 32.28%\t校驗正確率: 33.91%\n",
      "Epoch: 4 [5000/6209 (81%)]\tLoss: 1.711504\t訓練正確率: 33.08%\t校驗正確率: 32.75%\n",
      "Epoch: 4 [6000/6209 (97%)]\tLoss: 1.704556\t訓練正確率: 33.25%\t校驗正確率: 40.29%\n",
      "Epoch: 4 [6209/6209 (100%)]\tLoss: 1.701399\t訓練正確率: 33.48%\t校驗正確率: 38.26%\n",
      "Epoch: 5 [1000/6209 (16%)]\tLoss: 1.641753\t訓練正確率: 37.00%\t校驗正確率: 38.26%\n",
      "Epoch: 5 [2000/6209 (32%)]\tLoss: 1.632693\t訓練正確率: 37.30%\t校驗正確率: 39.42%\n",
      "Epoch: 5 [3000/6209 (48%)]\tLoss: 1.636885\t訓練正確率: 37.13%\t校驗正確率: 37.68%\n",
      "Epoch: 5 [4000/6209 (64%)]\tLoss: 1.631016\t訓練正確率: 37.38%\t校驗正確率: 38.55%\n",
      "Epoch: 5 [5000/6209 (81%)]\tLoss: 1.624349\t訓練正確率: 37.70%\t校驗正確率: 37.97%\n",
      "Epoch: 5 [6000/6209 (97%)]\tLoss: 1.616024\t訓練正確率: 38.20%\t校驗正確率: 40.87%\n",
      "Epoch: 5 [6209/6209 (100%)]\tLoss: 1.613038\t訓練正確率: 38.40%\t校驗正確率: 39.13%\n",
      "Epoch: 6 [1000/6209 (16%)]\tLoss: 1.534760\t訓練正確率: 41.90%\t校驗正確率: 42.61%\n",
      "Epoch: 6 [2000/6209 (32%)]\tLoss: 1.529126\t訓練正確率: 41.70%\t校驗正確率: 40.00%\n",
      "Epoch: 6 [3000/6209 (48%)]\tLoss: 1.509953\t訓練正確率: 42.63%\t校驗正確率: 43.19%\n",
      "Epoch: 6 [4000/6209 (64%)]\tLoss: 1.505317\t訓練正確率: 42.67%\t校驗正確率: 46.96%\n",
      "Epoch: 6 [5000/6209 (81%)]\tLoss: 1.490028\t訓練正確率: 43.84%\t校驗正確率: 50.14%\n",
      "Epoch: 6 [6000/6209 (97%)]\tLoss: 1.477981\t訓練正確率: 44.50%\t校驗正確率: 45.80%\n",
      "Epoch: 6 [6209/6209 (100%)]\tLoss: 1.477987\t訓練正確率: 44.64%\t校驗正確率: 42.32%\n",
      "Epoch: 7 [1000/6209 (16%)]\tLoss: 1.527460\t訓練正確率: 42.20%\t校驗正確率: 44.06%\n",
      "Epoch: 7 [2000/6209 (32%)]\tLoss: 1.505778\t訓練正確率: 43.45%\t校驗正確率: 39.71%\n",
      "Epoch: 7 [3000/6209 (48%)]\tLoss: 1.490796\t訓練正確率: 43.77%\t校驗正確率: 42.03%\n",
      "Epoch: 7 [4000/6209 (64%)]\tLoss: 1.463625\t訓練正確率: 44.90%\t校驗正確率: 47.83%\n",
      "Epoch: 7 [5000/6209 (81%)]\tLoss: 1.451236\t訓練正確率: 45.62%\t校驗正確率: 54.49%\n",
      "Epoch: 7 [6000/6209 (97%)]\tLoss: 1.429359\t訓練正確率: 46.60%\t校驗正確率: 51.88%\n",
      "Epoch: 7 [6209/6209 (100%)]\tLoss: 1.428002\t訓練正確率: 46.71%\t校驗正確率: 48.41%\n",
      "Epoch: 8 [1000/6209 (16%)]\tLoss: 1.569655\t訓練正確率: 38.70%\t校驗正確率: 49.86%\n",
      "Epoch: 8 [2000/6209 (32%)]\tLoss: 1.483420\t訓練正確率: 44.65%\t校驗正確率: 40.29%\n",
      "Epoch: 8 [3000/6209 (48%)]\tLoss: 1.443327\t訓練正確率: 46.60%\t校驗正確率: 50.72%\n",
      "Epoch: 8 [4000/6209 (64%)]\tLoss: 1.417524\t訓練正確率: 47.62%\t校驗正確率: 53.04%\n",
      "Epoch: 8 [5000/6209 (81%)]\tLoss: 1.402655\t訓練正確率: 48.26%\t校驗正確率: 52.75%\n",
      "Epoch: 8 [6000/6209 (97%)]\tLoss: 1.377546\t訓練正確率: 49.35%\t校驗正確率: 55.07%\n",
      "Epoch: 8 [6209/6209 (100%)]\tLoss: 1.369764\t訓練正確率: 49.32%\t校驗正確率: 54.49%\n",
      "Epoch: 9 [1000/6209 (16%)]\tLoss: 1.309292\t訓練正確率: 51.70%\t校驗正確率: 52.46%\n",
      "Epoch: 9 [2000/6209 (32%)]\tLoss: 1.328308\t訓練正確率: 51.40%\t校驗正確率: 53.33%\n",
      "Epoch: 9 [3000/6209 (48%)]\tLoss: 1.320842\t訓練正確率: 51.60%\t校驗正確率: 50.43%\n",
      "Epoch: 9 [4000/6209 (64%)]\tLoss: 1.320900\t訓練正確率: 51.45%\t校驗正確率: 60.00%\n",
      "Epoch: 9 [5000/6209 (81%)]\tLoss: 1.297964\t訓練正確率: 52.68%\t校驗正確率: 58.55%\n",
      "Epoch: 9 [6000/6209 (97%)]\tLoss: 1.289082\t訓練正確率: 52.93%\t校驗正確率: 61.16%\n",
      "Epoch: 9 [6209/6209 (100%)]\tLoss: 1.293091\t訓練正確率: 53.12%\t校驗正確率: 57.39%\n",
      "Epoch: 10 [1000/6209 (16%)]\tLoss: 1.230974\t訓練正確率: 55.90%\t校驗正確率: 53.33%\n",
      "Epoch: 10 [2000/6209 (32%)]\tLoss: 1.233479\t訓練正確率: 55.30%\t校驗正確率: 59.42%\n",
      "Epoch: 10 [3000/6209 (48%)]\tLoss: 1.217818\t訓練正確率: 56.07%\t校驗正確率: 57.97%\n",
      "Epoch: 10 [4000/6209 (64%)]\tLoss: 1.216290\t訓練正確率: 56.28%\t校驗正確率: 61.45%\n",
      "Epoch: 10 [5000/6209 (81%)]\tLoss: 1.201713\t訓練正確率: 56.92%\t校驗正確率: 60.00%\n",
      "Epoch: 10 [6000/6209 (97%)]\tLoss: 1.189059\t訓練正確率: 57.28%\t校驗正確率: 62.32%\n",
      "Epoch: 10 [6209/6209 (100%)]\tLoss: 1.189492\t訓練正確率: 57.09%\t校驗正確率: 60.00%\n",
      "Epoch: 11 [1000/6209 (16%)]\tLoss: 1.152823\t訓練正確率: 60.10%\t校驗正確率: 64.64%\n",
      "Epoch: 11 [2000/6209 (32%)]\tLoss: 1.139937\t訓練正確率: 59.70%\t校驗正確率: 63.48%\n",
      "Epoch: 11 [3000/6209 (48%)]\tLoss: 1.118467\t訓練正確率: 60.03%\t校驗正確率: 62.32%\n",
      "Epoch: 11 [4000/6209 (64%)]\tLoss: 1.097918\t訓練正確率: 61.08%\t校驗正確率: 62.03%\n",
      "Epoch: 11 [5000/6209 (81%)]\tLoss: 1.097764\t訓練正確率: 60.88%\t校驗正確率: 64.35%\n",
      "Epoch: 11 [6000/6209 (97%)]\tLoss: 1.098063\t訓練正確率: 60.98%\t校驗正確率: 63.77%\n",
      "Epoch: 11 [6209/6209 (100%)]\tLoss: 1.092639\t訓練正確率: 60.91%\t校驗正確率: 65.22%\n",
      "Epoch: 12 [1000/6209 (16%)]\tLoss: 1.038432\t訓練正確率: 64.10%\t校驗正確率: 65.51%\n",
      "Epoch: 12 [2000/6209 (32%)]\tLoss: 1.071489\t訓練正確率: 62.35%\t校驗正確率: 63.48%\n",
      "Epoch: 12 [3000/6209 (48%)]\tLoss: 1.068065\t訓練正確率: 61.60%\t校驗正確率: 64.93%\n",
      "Epoch: 12 [4000/6209 (64%)]\tLoss: 1.064334\t訓練正確率: 61.58%\t校驗正確率: 64.64%\n",
      "Epoch: 12 [5000/6209 (81%)]\tLoss: 1.066040\t訓練正確率: 61.56%\t校驗正確率: 62.90%\n",
      "Epoch: 12 [6000/6209 (97%)]\tLoss: 1.068717\t訓練正確率: 61.18%\t校驗正確率: 65.22%\n",
      "Epoch: 12 [6209/6209 (100%)]\tLoss: 1.066095\t訓練正確率: 61.33%\t校驗正確率: 49.86%\n",
      "Epoch: 13 [1000/6209 (16%)]\tLoss: 1.411583\t訓練正確率: 52.20%\t校驗正確率: 42.61%\n",
      "Epoch: 13 [2000/6209 (32%)]\tLoss: 1.330377\t訓練正確率: 53.30%\t校驗正確率: 59.42%\n",
      "Epoch: 13 [3000/6209 (48%)]\tLoss: 1.278030\t訓練正確率: 54.00%\t校驗正確率: 64.35%\n",
      "Epoch: 13 [4000/6209 (64%)]\tLoss: 1.219947\t訓練正確率: 56.00%\t校驗正確率: 64.64%\n",
      "Epoch: 13 [5000/6209 (81%)]\tLoss: 1.179605\t訓練正確率: 57.62%\t校驗正確率: 65.51%\n",
      "Epoch: 13 [6000/6209 (97%)]\tLoss: 1.156383\t訓練正確率: 58.65%\t校驗正確率: 65.80%\n",
      "Epoch: 13 [6209/6209 (100%)]\tLoss: 1.146170\t訓練正確率: 58.62%\t校驗正確率: 66.38%\n",
      "Epoch: 14 [1000/6209 (16%)]\tLoss: 0.967388\t訓練正確率: 64.30%\t校驗正確率: 67.83%\n",
      "Epoch: 14 [2000/6209 (32%)]\tLoss: 0.965007\t訓練正確率: 65.00%\t校驗正確率: 67.83%\n",
      "Epoch: 14 [3000/6209 (48%)]\tLoss: 0.976583\t訓練正確率: 64.80%\t校驗正確率: 64.93%\n",
      "Epoch: 14 [4000/6209 (64%)]\tLoss: 0.986511\t訓練正確率: 64.05%\t校驗正確率: 66.38%\n",
      "Epoch: 14 [5000/6209 (81%)]\tLoss: 0.979343\t訓練正確率: 64.42%\t校驗正確率: 69.57%\n",
      "Epoch: 14 [6000/6209 (97%)]\tLoss: 0.991702\t訓練正確率: 63.88%\t校驗正確率: 68.12%\n",
      "Epoch: 14 [6209/6209 (100%)]\tLoss: 0.990096\t訓練正確率: 63.94%\t校驗正確率: 68.12%\n",
      "Epoch: 15 [1000/6209 (16%)]\tLoss: 0.975036\t訓練正確率: 64.50%\t校驗正確率: 68.12%\n",
      "Epoch: 15 [2000/6209 (32%)]\tLoss: 0.955196\t訓練正確率: 65.25%\t校驗正確率: 64.64%\n",
      "Epoch: 15 [3000/6209 (48%)]\tLoss: 0.949948\t訓練正確率: 65.87%\t校驗正確率: 67.54%\n",
      "Epoch: 15 [4000/6209 (64%)]\tLoss: 0.949151\t訓練正確率: 65.78%\t校驗正確率: 70.14%\n",
      "Epoch: 15 [5000/6209 (81%)]\tLoss: 0.935992\t訓練正確率: 66.28%\t校驗正確率: 69.57%\n",
      "Epoch: 15 [6000/6209 (97%)]\tLoss: 0.928037\t訓練正確率: 66.33%\t校驗正確率: 67.25%\n",
      "Epoch: 15 [6209/6209 (100%)]\tLoss: 0.929994\t訓練正確率: 66.10%\t校驗正確率: 72.75%\n",
      "Epoch: 16 [1000/6209 (16%)]\tLoss: 1.004760\t訓練正確率: 64.60%\t校驗正確率: 64.64%\n",
      "Epoch: 16 [2000/6209 (32%)]\tLoss: 0.970500\t訓練正確率: 65.20%\t校驗正確率: 65.51%\n",
      "Epoch: 16 [3000/6209 (48%)]\tLoss: 0.939996\t訓練正確率: 65.57%\t校驗正確率: 68.70%\n",
      "Epoch: 16 [4000/6209 (64%)]\tLoss: 0.947946\t訓練正確率: 64.80%\t校驗正確率: 68.70%\n",
      "Epoch: 16 [5000/6209 (81%)]\tLoss: 0.951916\t訓練正確率: 64.74%\t校驗正確率: 66.09%\n",
      "Epoch: 16 [6000/6209 (97%)]\tLoss: 0.938803\t訓練正確率: 65.32%\t校驗正確率: 72.75%\n"
     ]
    },
    {
     "name": "stdout",
     "output_type": "stream",
     "text": [
      "Epoch: 16 [6209/6209 (100%)]\tLoss: 0.933574\t訓練正確率: 65.42%\t校驗正確率: 73.33%\n",
      "Epoch: 17 [1000/6209 (16%)]\tLoss: 0.873026\t訓練正確率: 68.90%\t校驗正確率: 70.14%\n",
      "Epoch: 17 [2000/6209 (32%)]\tLoss: 0.886858\t訓練正確率: 68.60%\t校驗正確率: 69.28%\n",
      "Epoch: 17 [3000/6209 (48%)]\tLoss: 0.891193\t訓練正確率: 67.97%\t校驗正確率: 70.43%\n",
      "Epoch: 17 [4000/6209 (64%)]\tLoss: 0.873084\t訓練正確率: 68.43%\t校驗正確率: 71.59%\n",
      "Epoch: 17 [5000/6209 (81%)]\tLoss: 0.882270\t訓練正確率: 68.06%\t校驗正確率: 73.04%\n",
      "Epoch: 17 [6000/6209 (97%)]\tLoss: 0.886708\t訓練正確率: 67.70%\t校驗正確率: 70.72%\n",
      "Epoch: 17 [6209/6209 (100%)]\tLoss: 0.885981\t訓練正確率: 67.71%\t校驗正確率: 69.28%\n",
      "Epoch: 18 [1000/6209 (16%)]\tLoss: 0.878168\t訓練正確率: 67.80%\t校驗正確率: 73.33%\n",
      "Epoch: 18 [2000/6209 (32%)]\tLoss: 0.878353\t訓練正確率: 67.85%\t校驗正確率: 68.70%\n",
      "Epoch: 18 [3000/6209 (48%)]\tLoss: 0.851070\t訓練正確率: 69.23%\t校驗正確率: 66.96%\n",
      "Epoch: 18 [4000/6209 (64%)]\tLoss: 0.854163\t訓練正確率: 68.57%\t校驗正確率: 69.57%\n",
      "Epoch: 18 [5000/6209 (81%)]\tLoss: 0.868975\t訓練正確率: 68.08%\t校驗正確率: 65.80%\n",
      "Epoch: 18 [6000/6209 (97%)]\tLoss: 0.866668\t訓練正確率: 68.63%\t校驗正確率: 68.70%\n",
      "Epoch: 18 [6209/6209 (100%)]\tLoss: 0.864589\t訓練正確率: 68.74%\t校驗正確率: 70.43%\n",
      "Epoch: 19 [1000/6209 (16%)]\tLoss: 0.831685\t訓練正確率: 68.60%\t校驗正確率: 69.86%\n",
      "Epoch: 19 [2000/6209 (32%)]\tLoss: 0.893680\t訓練正確率: 67.65%\t校驗正確率: 68.99%\n",
      "Epoch: 19 [3000/6209 (48%)]\tLoss: 0.887887\t訓練正確率: 67.50%\t校驗正確率: 71.01%\n",
      "Epoch: 19 [4000/6209 (64%)]\tLoss: 0.864844\t訓練正確率: 68.47%\t校驗正確率: 70.14%\n",
      "Epoch: 19 [5000/6209 (81%)]\tLoss: 0.861951\t訓練正確率: 68.92%\t校驗正確率: 71.59%\n",
      "Epoch: 19 [6000/6209 (97%)]\tLoss: 0.855877\t訓練正確率: 69.18%\t校驗正確率: 71.59%\n",
      "Epoch: 19 [6209/6209 (100%)]\tLoss: 0.850362\t訓練正確率: 69.16%\t校驗正確率: 72.46%\n",
      "Epoch: 20 [1000/6209 (16%)]\tLoss: 0.794496\t訓練正確率: 71.90%\t校驗正確率: 68.41%\n",
      "Epoch: 20 [2000/6209 (32%)]\tLoss: 0.804668\t訓練正確率: 71.00%\t校驗正確率: 68.41%\n",
      "Epoch: 20 [3000/6209 (48%)]\tLoss: 0.808609\t訓練正確率: 69.97%\t校驗正確率: 71.01%\n",
      "Epoch: 20 [4000/6209 (64%)]\tLoss: 0.804522\t訓練正確率: 70.15%\t校驗正確率: 69.86%\n",
      "Epoch: 20 [5000/6209 (81%)]\tLoss: 0.815128\t訓練正確率: 70.24%\t校驗正確率: 69.86%\n",
      "Epoch: 20 [6000/6209 (97%)]\tLoss: 0.816636\t訓練正確率: 70.42%\t校驗正確率: 70.72%\n",
      "Epoch: 20 [6209/6209 (100%)]\tLoss: 0.815050\t訓練正確率: 70.43%\t校驗正確率: 69.57%\n",
      "Epoch: 21 [1000/6209 (16%)]\tLoss: 0.761405\t訓練正確率: 70.50%\t校驗正確率: 68.70%\n",
      "Epoch: 21 [2000/6209 (32%)]\tLoss: 0.768629\t訓練正確率: 71.25%\t校驗正確率: 70.72%\n",
      "Epoch: 21 [3000/6209 (48%)]\tLoss: 0.788306\t訓練正確率: 70.60%\t校驗正確率: 70.14%\n",
      "Epoch: 21 [4000/6209 (64%)]\tLoss: 0.817981\t訓練正確率: 69.82%\t校驗正確率: 72.17%\n",
      "Epoch: 21 [5000/6209 (81%)]\tLoss: 0.817354\t訓練正確率: 69.82%\t校驗正確率: 71.59%\n",
      "Epoch: 21 [6000/6209 (97%)]\tLoss: 0.805154\t訓練正確率: 70.38%\t校驗正確率: 69.86%\n",
      "Epoch: 21 [6209/6209 (100%)]\tLoss: 0.810455\t訓練正確率: 70.38%\t校驗正確率: 70.14%\n",
      "Epoch: 22 [1000/6209 (16%)]\tLoss: 0.784002\t訓練正確率: 71.70%\t校驗正確率: 68.70%\n",
      "Epoch: 22 [2000/6209 (32%)]\tLoss: 0.735338\t訓練正確率: 73.30%\t校驗正確率: 70.43%\n",
      "Epoch: 22 [3000/6209 (48%)]\tLoss: 0.739376\t訓練正確率: 73.47%\t校驗正確率: 71.59%\n",
      "Epoch: 22 [4000/6209 (64%)]\tLoss: 0.760558\t訓練正確率: 72.68%\t校驗正確率: 69.86%\n",
      "Epoch: 22 [5000/6209 (81%)]\tLoss: 0.769218\t訓練正確率: 72.18%\t校驗正確率: 71.59%\n",
      "Epoch: 22 [6000/6209 (97%)]\tLoss: 0.773542\t訓練正確率: 72.00%\t校驗正確率: 73.62%\n",
      "Epoch: 22 [6209/6209 (100%)]\tLoss: 0.771199\t訓練正確率: 71.88%\t校驗正確率: 72.75%\n",
      "Epoch: 23 [1000/6209 (16%)]\tLoss: 0.671216\t訓練正確率: 75.10%\t校驗正確率: 72.46%\n",
      "Epoch: 23 [2000/6209 (32%)]\tLoss: 0.715796\t訓練正確率: 73.35%\t校驗正確率: 69.28%\n",
      "Epoch: 23 [3000/6209 (48%)]\tLoss: 0.743536\t訓練正確率: 73.07%\t校驗正確率: 70.43%\n",
      "Epoch: 23 [4000/6209 (64%)]\tLoss: 0.751841\t訓練正確率: 72.53%\t校驗正確率: 73.91%\n",
      "Epoch: 23 [5000/6209 (81%)]\tLoss: 0.745114\t訓練正確率: 72.96%\t校驗正確率: 69.86%\n",
      "Epoch: 23 [6000/6209 (97%)]\tLoss: 0.753720\t訓練正確率: 72.48%\t校驗正確率: 71.01%\n",
      "Epoch: 23 [6209/6209 (100%)]\tLoss: 0.753559\t訓練正確率: 72.30%\t校驗正確率: 71.88%\n",
      "Epoch: 24 [1000/6209 (16%)]\tLoss: 0.717827\t訓練正確率: 74.70%\t校驗正確率: 70.43%\n",
      "Epoch: 24 [2000/6209 (32%)]\tLoss: 0.735264\t訓練正確率: 72.85%\t校驗正確率: 72.17%\n",
      "Epoch: 24 [3000/6209 (48%)]\tLoss: 0.743727\t訓練正確率: 72.73%\t校驗正確率: 71.01%\n",
      "Epoch: 24 [4000/6209 (64%)]\tLoss: 0.742710\t訓練正確率: 72.78%\t校驗正確率: 71.59%\n",
      "Epoch: 24 [5000/6209 (81%)]\tLoss: 0.737869\t訓練正確率: 73.14%\t校驗正確率: 71.30%\n",
      "Epoch: 24 [6000/6209 (97%)]\tLoss: 0.732536\t訓練正確率: 73.18%\t校驗正確率: 71.30%\n",
      "Epoch: 24 [6209/6209 (100%)]\tLoss: 0.730884\t訓練正確率: 73.12%\t校驗正確率: 71.88%\n",
      "Epoch: 25 [1000/6209 (16%)]\tLoss: 0.760567\t訓練正確率: 73.50%\t校驗正確率: 73.04%\n",
      "Epoch: 25 [2000/6209 (32%)]\tLoss: 0.735157\t訓練正確率: 73.25%\t校驗正確率: 72.17%\n",
      "Epoch: 25 [3000/6209 (48%)]\tLoss: 0.728350\t訓練正確率: 73.90%\t校驗正確率: 73.33%\n",
      "Epoch: 25 [4000/6209 (64%)]\tLoss: 0.722588\t訓練正確率: 73.82%\t校驗正確率: 72.46%\n",
      "Epoch: 25 [5000/6209 (81%)]\tLoss: 0.720294\t訓練正確率: 73.62%\t校驗正確率: 73.33%\n",
      "Epoch: 25 [6000/6209 (97%)]\tLoss: 0.721328\t訓練正確率: 73.78%\t校驗正確率: 70.72%\n",
      "Epoch: 25 [6209/6209 (100%)]\tLoss: 0.731058\t訓練正確率: 73.75%\t校驗正確率: 72.46%\n",
      "Epoch: 26 [1000/6209 (16%)]\tLoss: 0.720269\t訓練正確率: 74.10%\t校驗正確率: 70.14%\n",
      "Epoch: 26 [2000/6209 (32%)]\tLoss: 0.722316\t訓練正確率: 73.85%\t校驗正確率: 67.83%\n",
      "Epoch: 26 [3000/6209 (48%)]\tLoss: 0.729021\t訓練正確率: 73.43%\t校驗正確率: 72.46%\n",
      "Epoch: 26 [4000/6209 (64%)]\tLoss: 0.729549\t訓練正確率: 72.80%\t校驗正確率: 73.91%\n",
      "Epoch: 26 [5000/6209 (81%)]\tLoss: 0.719779\t訓練正確率: 73.38%\t校驗正確率: 72.17%\n",
      "Epoch: 26 [6000/6209 (97%)]\tLoss: 0.708277\t訓練正確率: 73.72%\t校驗正確率: 72.46%\n",
      "Epoch: 26 [6209/6209 (100%)]\tLoss: 0.702326\t訓練正確率: 73.64%\t校驗正確率: 70.14%\n",
      "Epoch: 27 [1000/6209 (16%)]\tLoss: 0.679176\t訓練正確率: 75.90%\t校驗正確率: 73.04%\n",
      "Epoch: 27 [2000/6209 (32%)]\tLoss: 0.670533\t訓練正確率: 75.70%\t校驗正確率: 71.30%\n",
      "Epoch: 27 [3000/6209 (48%)]\tLoss: 0.677636\t訓練正確率: 74.87%\t校驗正確率: 73.33%\n",
      "Epoch: 27 [4000/6209 (64%)]\tLoss: 0.686646\t訓練正確率: 74.55%\t校驗正確率: 75.07%\n",
      "Epoch: 27 [5000/6209 (81%)]\tLoss: 0.695241\t訓練正確率: 74.30%\t校驗正確率: 73.04%\n",
      "Epoch: 27 [6000/6209 (97%)]\tLoss: 0.694386\t訓練正確率: 74.22%\t校驗正確率: 73.91%\n",
      "Epoch: 27 [6209/6209 (100%)]\tLoss: 0.692765\t訓練正確率: 74.26%\t校驗正確率: 72.17%\n",
      "Epoch: 28 [1000/6209 (16%)]\tLoss: 0.674134\t訓練正確率: 76.30%\t校驗正確率: 72.75%\n",
      "Epoch: 28 [2000/6209 (32%)]\tLoss: 0.691390\t訓練正確率: 75.75%\t校驗正確率: 71.59%\n",
      "Epoch: 28 [3000/6209 (48%)]\tLoss: 0.694244\t訓練正確率: 75.07%\t校驗正確率: 73.04%\n",
      "Epoch: 28 [4000/6209 (64%)]\tLoss: 0.688930\t訓練正確率: 74.85%\t校驗正確率: 74.20%\n",
      "Epoch: 28 [5000/6209 (81%)]\tLoss: 0.680349\t訓練正確率: 75.08%\t校驗正確率: 73.62%\n",
      "Epoch: 28 [6000/6209 (97%)]\tLoss: 0.684063\t訓練正確率: 74.93%\t校驗正確率: 73.62%\n",
      "Epoch: 28 [6209/6209 (100%)]\tLoss: 0.674693\t訓練正確率: 75.07%\t校驗正確率: 74.20%\n",
      "Epoch: 29 [1000/6209 (16%)]\tLoss: 0.642878\t訓練正確率: 75.90%\t校驗正確率: 69.86%\n",
      "Epoch: 29 [2000/6209 (32%)]\tLoss: 0.683305\t訓練正確率: 75.60%\t校驗正確率: 74.49%\n",
      "Epoch: 29 [3000/6209 (48%)]\tLoss: 0.656810\t訓練正確率: 76.53%\t校驗正確率: 73.62%\n",
      "Epoch: 29 [4000/6209 (64%)]\tLoss: 0.657805\t訓練正確率: 76.12%\t校驗正確率: 71.01%\n",
      "Epoch: 29 [5000/6209 (81%)]\tLoss: 0.656846\t訓練正確率: 76.22%\t校驗正確率: 73.33%\n",
      "Epoch: 29 [6000/6209 (97%)]\tLoss: 0.653444\t訓練正確率: 76.37%\t校驗正確率: 74.78%\n",
      "Epoch: 29 [6209/6209 (100%)]\tLoss: 0.653639\t訓練正確率: 76.41%\t校驗正確率: 72.75%\n"
     ]
    },
    {
     "data": {
      "image/png": "[encoded data removed]",
      "text/plain": [
       "<Figure size 1000x700 with 1 Axes>"
      ]
     },
     "metadata": {},
     "output_type": "display_data"
    }
   ],
   "source": [
    "net = ConvNet() \n",
    "cost = nn.NLLLoss()\n",
    "optimizer = optim.SGD(net.parameters(), lr=0.001, momentum=0.9) \n",
    "net.to(device)\n",
    "\n",
    "\n",
    "record  = [] \n",
    "weights = [] \n",
    "for epoch in range(num_epochs):\n",
    "    train_total = len(train_loader.dataset)\n",
    "    train_right, train_curr_total = 0, 0\n",
    "    batchloss = []\n",
    "   \n",
    "    for data, target in train_loader:\n",
    "        if use_cuda:\n",
    "           data = data.cuda()\n",
    "           target = target.cuda()     \n",
    "        net.train() \n",
    "        optimizer.zero_grad() \n",
    "        predict = net(data) \n",
    "        loss = cost(predict, target)\n",
    "        loss.backward() \n",
    "        optimizer.step() \n",
    "        \n",
    "        right, total = rightness(predict, target) \n",
    "        train_right += right                      \n",
    "        train_curr_total += total                 \n",
    "        batchloss.append(loss.detach().cpu())     \n",
    "        \n",
    "        if (train_curr_total % (10*batch_size)==0) or (train_curr_total==train_total): \n",
    "            net.eval()      # Disable drop\n",
    "            val_right, val_total = 0, 0\n",
    "            for (data_v, target_v) in validation_loader:\n",
    "                if use_cuda:\n",
    "                   data_v = data_v.cuda()\n",
    "                   target_v = target.cuda_v()\n",
    "                predict = net(data_v) \n",
    "                right, total = rightness(predict, target_v) \n",
    "                val_right += right\n",
    "                val_total += total\n",
    "            \n",
    "            train_right_ = (100.*train_right/train_curr_total).cpu()\n",
    "            val_right_   = (100.*val_right/val_total).cpu()\n",
    "            print('Epoch: {} [{}/{} ({:.0f}%)]\\tLoss: {:.6f}\\t訓練正確率: {:.2f}%\\t校驗正確率: {:.2f}%'\\\n",
    "                  .format(epoch, train_curr_total, train_total, 100.*train_curr_total/train_total, \n",
    "                  np.mean(batchloss, dtype=float), train_right_, val_right_))\n",
    "            \n",
    "            record.append((100 - train_right_, 100 - val_right_))\n",
    "            \n",
    "            weights.append([net.conv1.weight.detach().clone().cpu(), net.conv1.bias.detach().clone().cpu(), \n",
    "                            net.conv2.weight.detach().clone().cpu(), net.conv2.bias.detach().clone().cpu()])\n",
    "\n",
    "record = np.array(record)\n",
    "plt.figure(figsize = (10,7))\n",
    "plt.xlabel('Steps')\n",
    "plt.ylabel('Error rate')\n",
    "plt.plot(record[:,0], label = 'Train Err')\n",
    "plt.plot(record[:,1], label = 'Val Err')\n",
    "plt.legend()\n",
    "plt.show()\n",
    "                    \n",
    "                                    "
   ]
  },
  {
   "cell_type": "markdown",
   "id": "2fc94882",
   "metadata": {},
   "source": [
    "# Model testing"
   ]
  },
  {
   "cell_type": "code",
   "execution_count": 23,
   "id": "06f4453a",
   "metadata": {},
   "outputs": [],
   "source": [
    "test_right, test_total = 0, 0\n",
    "for data_t, target_t in test_loader:\n",
    "    if use_cuda:\n",
    "       data_t = data_t.cuda()\n",
    "       target = target.cuda()\n",
    "    predict = net(data_t) \n",
    "    right, total = rightness(predict, target_t) \n",
    "    test_right += right\n",
    "    test_total += total"
   ]
  },
  {
   "cell_type": "code",
   "execution_count": 24,
   "id": "6f66d933",
   "metadata": {},
   "outputs": [
    {
     "name": "stdout",
     "output_type": "stream",
     "text": [
      "Test accurate: 69.85507202148438\n"
     ]
    }
   ],
   "source": [
    "print('Test accurate: {}'.format(100. * test_right / test_total))"
   ]
  },
  {
   "cell_type": "code",
   "execution_count": null,
   "id": "8e9f6083",
   "metadata": {},
   "outputs": [],
   "source": []
  }
 ],
 "metadata": {
  "kernelspec": {
   "display_name": "Python 3 (ipykernel)",
   "language": "python",
   "name": "python3"
  },
  "language_info": {
   "codemirror_mode": {
    "name": "ipython",
    "version": 3
   },
   "file_extension": ".py",
   "mimetype": "text/x-python",
   "name": "python",
   "nbconvert_exporter": "python",
   "pygments_lexer": "ipython3",
   "version": "3.9.13"
  },
  "toc": {
   "base_numbering": 1,
   "nav_menu": {},
   "number_sections": true,
   "sideBar": true,
   "skip_h1_title": false,
   "title_cell": "Table of Contents",
   "title_sidebar": "Contents",
   "toc_cell": false,
   "toc_position": {},
   "toc_section_display": true,
   "toc_window_display": false
  },
  "varInspector": {
   "cols": {
    "lenName": 16,
    "lenType": 16,
    "lenVar": 40
   },
   "kernels_config": {
    "python": {
     "delete_cmd_postfix": "",
     "delete_cmd_prefix": "del ",
     "library": "var_list.py",
     "varRefreshCmd": "print(var_dic_list())"
    },
    "r": {
     "delete_cmd_postfix": ") ",
     "delete_cmd_prefix": "rm(",
     "library": "var_list.r",
     "varRefreshCmd": "cat(var_dic_list()) "
    }
   },
   "types_to_exclude": [
    "module",
    "function",
    "builtin_function_or_method",
    "instance",
    "_Feature"
   ],
   "window_display": false
  }
 },
 "nbformat": 4,
 "nbformat_minor": 5
}
